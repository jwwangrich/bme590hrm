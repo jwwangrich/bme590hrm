{
 "cells": [
  {
   "cell_type": "code",
   "execution_count": 27,
   "metadata": {},
   "outputs": [
    {
     "name": "stdout",
     "output_type": "stream",
     "text": [
      "README.md        test_data15.csv  test_data23.csv  test_data31.csv\r\n",
      "Untitled.ipynb   test_data16.csv  test_data24.csv  test_data32.csv\r\n",
      "reader.py        test_data17.csv  test_data25.csv  test_data4.csv\r\n",
      "test_data1.csv   test_data18.csv  test_data26.csv  test_data5.csv\r\n",
      "test_data10.csv  test_data19.csv  test_data27.csv  test_data6.csv\r\n",
      "test_data11.csv  test_data2.csv   test_data28.csv  test_data7.csv\r\n",
      "test_data12.csv  test_data20.csv  test_data29.csv  test_data8.csv\r\n",
      "test_data13.csv  test_data21.csv  test_data3.csv   test_data9.csv\r\n",
      "test_data14.csv  test_data22.csv  test_data30.csv\r\n"
     ]
    }
   ],
   "source": [
    "ls"
   ]
  },
  {
   "cell_type": "code",
   "execution_count": 28,
   "metadata": {},
   "outputs": [
    {
     "ename": "NameError",
     "evalue": "name 'reader' is not defined",
     "output_type": "error",
     "traceback": [
      "\u001b[0;31m---------------------------------------------------------------------------\u001b[0m",
      "\u001b[0;31mNameError\u001b[0m                                 Traceback (most recent call last)",
      "\u001b[0;32m<ipython-input-28-9a3bf953f5c5>\u001b[0m in \u001b[0;36m<module>\u001b[0;34m()\u001b[0m\n\u001b[0;32m----> 1\u001b[0;31m \u001b[0mreader\u001b[0m\u001b[0;34m.\u001b[0m\u001b[0mpy\u001b[0m\u001b[0;34m\u001b[0m\u001b[0m\n\u001b[0m",
      "\u001b[0;31mNameError\u001b[0m: name 'reader' is not defined"
     ]
    }
   ],
   "source": [
    "reader.py"
   ]
  },
  {
   "cell_type": "code",
   "execution_count": null,
   "metadata": {},
   "outputs": [],
   "source": []
  },
  {
   "cell_type": "code",
   "execution_count": 47,
   "metadata": {},
   "outputs": [],
   "source": [
    "import glob\n",
    "import csv\n",
    "import numpy as np\n",
    "import math\n",
    "\n",
    "time = []\n",
    "voltage = []\n",
    "\n",
    "def main():\n",
    "    readcsv_tolist()\n",
    "    \n",
    "def readcsv_tolist():\n",
    "    global time\n",
    "    global voltage\n",
    "    import pandas as pd\n",
    "    my_csv = pd.read_csv(filename)\n",
    "    time = my_csv[0]\n",
    "    voltage = my_csv[1]\n",
    "\n",
    "class MyHRM():\n",
    "\n",
    "    def __init__(self, list1 = time, list2 = voltage):\n",
    "        self.time = list1\n",
    "        self.voltage = list2\n",
    "    \n",
    "    def voltage_extremes():\n",
    "        tuple(min(voltage), max(voltage))\n",
    "        print(tuple)\n"
   ]
  },
  {
   "cell_type": "code",
   "execution_count": 46,
   "metadata": {},
   "outputs": [],
   "source": [
    "from reader import readcsv_tolist"
   ]
  },
  {
   "cell_type": "code",
   "execution_count": 41,
   "metadata": {},
   "outputs": [
    {
     "ename": "NameError",
     "evalue": "name 'test_data1' is not defined",
     "output_type": "error",
     "traceback": [
      "\u001b[0;31m---------------------------------------------------------------------------\u001b[0m",
      "\u001b[0;31mNameError\u001b[0m                                 Traceback (most recent call last)",
      "\u001b[0;32m<ipython-input-41-3a8d6ef59cec>\u001b[0m in \u001b[0;36m<module>\u001b[0;34m()\u001b[0m\n\u001b[0;32m----> 1\u001b[0;31m \u001b[0mreadcsv_tolist\u001b[0m\u001b[0;34m:\u001b[0m \u001b[0mtest_data1\u001b[0m\u001b[0;34m.\u001b[0m\u001b[0mcsv\u001b[0m\u001b[0;34m\u001b[0m\u001b[0m\n\u001b[0m",
      "\u001b[0;31mNameError\u001b[0m: name 'test_data1' is not defined"
     ]
    }
   ],
   "source": []
  },
  {
   "cell_type": "code",
   "execution_count": null,
   "metadata": {},
   "outputs": [],
   "source": []
  }
 ],
 "metadata": {
  "kernelspec": {
   "display_name": "Python 3",
   "language": "python",
   "name": "python3"
  },
  "language_info": {
   "codemirror_mode": {
    "name": "ipython",
    "version": 3
   },
   "file_extension": ".py",
   "mimetype": "text/x-python",
   "name": "python",
   "nbconvert_exporter": "python",
   "pygments_lexer": "ipython3",
   "version": "3.6.4"
  }
 },
 "nbformat": 4,
 "nbformat_minor": 2
}
