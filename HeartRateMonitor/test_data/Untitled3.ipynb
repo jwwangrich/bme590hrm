{
 "cells": [
  {
   "cell_type": "code",
   "execution_count": 1,
   "metadata": {},
   "outputs": [
    {
     "name": "stdout",
     "output_type": "stream",
     "text": [
      "README.md         requirements.txt  test_data19.csv   test_data29.csv\r\n",
      "Untitled.ipynb    test_data1.csv    test_data2.csv    test_data3.csv\r\n",
      "Untitled1.ipynb   test_data10.csv   test_data20.csv   test_data30.csv\r\n",
      "Untitled2.ipynb   test_data11.csv   test_data21.csv   test_data31.csv\r\n",
      "Untitled3.ipynb   test_data12.csv   test_data22.csv   test_data32.csv\r\n",
      "__init__.py       test_data13.csv   test_data23.csv   test_data4.csv\r\n",
      "\u001b[34m__pycache__\u001b[m\u001b[m/      test_data14.csv   test_data24.csv   test_data5.csv\r\n",
      "duration.py       test_data15.csv   test_data25.csv   test_data6.csv\r\n",
      "mean_hr_bpm.py    test_data16.csv   test_data26.csv   test_data7.csv\r\n",
      "num_beat.py       test_data17.csv   test_data27.csv   test_data8.csv\r\n",
      "reader.py         test_data18.csv   test_data28.csv   test_data9.csv\r\n"
     ]
    }
   ],
   "source": [
    "ls"
   ]
  },
  {
   "cell_type": "code",
   "execution_count": null,
   "metadata": {},
   "outputs": [],
   "source": []
  }
 ],
 "metadata": {
  "kernelspec": {
   "display_name": "Python 3",
   "language": "python",
   "name": "python3"
  },
  "language_info": {
   "codemirror_mode": {
    "name": "ipython",
    "version": 3
   },
   "file_extension": ".py",
   "mimetype": "text/x-python",
   "name": "python",
   "nbconvert_exporter": "python",
   "pygments_lexer": "ipython3",
   "version": "3.6.4"
  }
 },
 "nbformat": 4,
 "nbformat_minor": 2
}
