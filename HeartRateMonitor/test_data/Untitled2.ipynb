{
 "cells": [
  {
   "cell_type": "code",
   "execution_count": 84,
   "metadata": {},
   "outputs": [],
   "source": [
    "import glob\n",
    "timearr = []\n",
    "voltagearr = []\n",
    "peak = []\n",
    "peakindexes = []"
   ]
  },
  {
   "cell_type": "code",
   "execution_count": 85,
   "metadata": {},
   "outputs": [
    {
     "name": "stdout",
     "output_type": "stream",
     "text": [
      "[0.0000e+00 3.0000e-03 6.0000e-03 ... 2.7769e+01 2.7772e+01 2.7775e+01]\n",
      "[-0.145 -0.145 -0.145 ...  0.71   0.795  0.72 ]\n"
     ]
    }
   ],
   "source": [
    "import pandas as pd\n",
    "df = pd.read_csv('test_data1.csv', names = ['Time', 'Voltage'], delimiter = ',')\n",
    "timearr = df[\"Time\"].values\n",
    "voltagearr = df[\"Voltage\"].values\n",
    "print(timearr)\n",
    "print(voltagearr)"
   ]
  },
  {
   "cell_type": "code",
   "execution_count": 86,
   "metadata": {},
   "outputs": [
    {
     "name": "stdout",
     "output_type": "stream",
     "text": [
      "10003\n"
     ]
    }
   ],
   "source": [
    "global voltagearr\n",
    "maxvol = max(voltagearr)\n",
    "maxindex = np.argmax(voltagearr)\n",
    "maxwave = np.array([voltagearr[maxindex - 2:maxindex + 2]])\n",
    "maxwave_oned = np.ravel(maxwave)\n",
    "volarr_oned = np.ravel(voltagearr)\n",
    "peak = np.correlate(maxwave_oned, volarr_oned, mode = 'full')\n",
    "print(len(peak))"
   ]
  },
  {
   "cell_type": "code",
   "execution_count": 87,
   "metadata": {},
   "outputs": [
    {
     "name": "stdout",
     "output_type": "stream",
     "text": [
      "[ 291  570  860 1164 1462 1756 2048 2332 2610 2896 3178 3475 3787 4083\n",
      " 4368 4655 4941 5237 5536 5831 6139 6442 6719 7004 7295 7599 7957 8192\n",
      " 8486 8770 9055 9339 9631]\n"
     ]
    }
   ],
   "source": [
    "import numpy as np\n",
    "from scipy.signal import find_peaks_cwt\n",
    "global peak\n",
    "cb = np.array(peak)\n",
    "peakindexes = find_peaks_cwt(cb, np.arange(1, 400))\n",
    "print(peakindexes)"
   ]
  },
  {
   "cell_type": "code",
   "execution_count": null,
   "metadata": {},
   "outputs": [],
   "source": []
  }
 ],
 "metadata": {
  "kernelspec": {
   "display_name": "Python 3",
   "language": "python",
   "name": "python3"
  },
  "language_info": {
   "codemirror_mode": {
    "name": "ipython",
    "version": 3
   },
   "file_extension": ".py",
   "mimetype": "text/x-python",
   "name": "python",
   "nbconvert_exporter": "python",
   "pygments_lexer": "ipython3",
   "version": "3.6.4"
  }
 },
 "nbformat": 4,
 "nbformat_minor": 2
}
